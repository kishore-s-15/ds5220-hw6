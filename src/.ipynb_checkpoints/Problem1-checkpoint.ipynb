{
 "cells": [
  {
   "cell_type": "markdown",
   "id": "0b907d4f-be2a-4c8a-a0ed-d9b62c5e12fa",
   "metadata": {},
   "source": [
    "### PROBLEM 1: Recommender System using Collaborative Filtering\n",
    "\n",
    "Implement a Movie Recommendation System and run it on the Movie Lens Dataset (Train vs Test). Mesure performance on test set using RMSE.\n",
    "\n",
    "1. First you are required to compute first a user-user similarity based on ratings and movies in common.\n",
    "2. Second, make rating predictions on the test set followoing the KNN idea: a prediction (user, movie) is the weighted average of other users' rating for the movie, weighted by user-similarity to the given user."
   ]
  },
  {
   "cell_type": "code",
   "execution_count": 1,
   "id": "b8fab017-4c74-41d4-bf8b-db8ff1a23a56",
   "metadata": {},
   "outputs": [],
   "source": [
    "# Importing the required libraries\n",
    "\n",
    "import math\n",
    "from pathlib import Path\n",
    "\n",
    "import numpy as np\n",
    "import pandas as pd\n",
    "from tqdm import tqdm\n",
    "\n",
    "import seaborn as sns\n",
    "import matplotlib.pyplot as plt"
   ]
  },
  {
   "cell_type": "code",
   "execution_count": 2,
   "id": "d820ddf3-c6d5-4dda-8a67-344b0ee441d2",
   "metadata": {},
   "outputs": [],
   "source": [
    "# Setting seed for reproducability\n",
    "\n",
    "seed = 42\n",
    "np.random.seed(seed)"
   ]
  },
  {
   "cell_type": "markdown",
   "id": "5eb4b556-fc38-4198-8282-bb971a8f4c83",
   "metadata": {},
   "source": [
    "#### Loading the Data"
   ]
  },
  {
   "cell_type": "code",
   "execution_count": 3,
   "id": "620d9ddc-5546-4836-a9f8-da5fa9b238dc",
   "metadata": {},
   "outputs": [
    {
     "data": {
      "text/plain": [
       "PosixPath('/home/kishoresampath/Documents/Northeastern Coursework/USML/Code_Files/Assignment_6/data/ml-100k/u.data')"
      ]
     },
     "execution_count": 3,
     "metadata": {},
     "output_type": "execute_result"
    }
   ],
   "source": [
    "# DATA URLs\n",
    "\n",
    "BASE_DIR = Path().cwd().parent\n",
    "DATA_DIR = BASE_DIR / \"data\" / \"ml-100k\"\n",
    "\n",
    "DATA_URL = DATA_DIR / \"u.data\"\n",
    "DATA_URL"
   ]
  },
  {
   "cell_type": "code",
   "execution_count": 4,
   "id": "a404b0ee-5104-4561-af2f-708d1632f7be",
   "metadata": {},
   "outputs": [
    {
     "data": {
      "text/html": [
       "<div>\n",
       "<style scoped>\n",
       "    .dataframe tbody tr th:only-of-type {\n",
       "        vertical-align: middle;\n",
       "    }\n",
       "\n",
       "    .dataframe tbody tr th {\n",
       "        vertical-align: top;\n",
       "    }\n",
       "\n",
       "    .dataframe thead th {\n",
       "        text-align: right;\n",
       "    }\n",
       "</style>\n",
       "<table border=\"1\" class=\"dataframe\">\n",
       "  <thead>\n",
       "    <tr style=\"text-align: right;\">\n",
       "      <th></th>\n",
       "      <th>user_id</th>\n",
       "      <th>item_id</th>\n",
       "      <th>rating</th>\n",
       "      <th>timstamp</th>\n",
       "    </tr>\n",
       "  </thead>\n",
       "  <tbody>\n",
       "    <tr>\n",
       "      <th>0</th>\n",
       "      <td>196</td>\n",
       "      <td>242</td>\n",
       "      <td>3</td>\n",
       "      <td>881250949</td>\n",
       "    </tr>\n",
       "    <tr>\n",
       "      <th>1</th>\n",
       "      <td>186</td>\n",
       "      <td>302</td>\n",
       "      <td>3</td>\n",
       "      <td>891717742</td>\n",
       "    </tr>\n",
       "    <tr>\n",
       "      <th>2</th>\n",
       "      <td>22</td>\n",
       "      <td>377</td>\n",
       "      <td>1</td>\n",
       "      <td>878887116</td>\n",
       "    </tr>\n",
       "    <tr>\n",
       "      <th>3</th>\n",
       "      <td>244</td>\n",
       "      <td>51</td>\n",
       "      <td>2</td>\n",
       "      <td>880606923</td>\n",
       "    </tr>\n",
       "    <tr>\n",
       "      <th>4</th>\n",
       "      <td>166</td>\n",
       "      <td>346</td>\n",
       "      <td>1</td>\n",
       "      <td>886397596</td>\n",
       "    </tr>\n",
       "  </tbody>\n",
       "</table>\n",
       "</div>"
      ],
      "text/plain": [
       "   user_id  item_id  rating   timstamp\n",
       "0      196      242       3  881250949\n",
       "1      186      302       3  891717742\n",
       "2       22      377       1  878887116\n",
       "3      244       51       2  880606923\n",
       "4      166      346       1  886397596"
      ]
     },
     "execution_count": 4,
     "metadata": {},
     "output_type": "execute_result"
    }
   ],
   "source": [
    "# Loading the data\n",
    "\n",
    "columns = [\"user_id\", \"item_id\", \"rating\", \"timstamp\"]\n",
    "\n",
    "df = pd.read_csv(DATA_URL, delimiter=\"\\t\", header=None)\n",
    "df.columns = columns\n",
    "\n",
    "df.head()"
   ]
  },
  {
   "cell_type": "markdown",
   "id": "887a3dbf-c098-487c-9eaa-4175a3c4b0bc",
   "metadata": {},
   "source": [
    "#### Exploratory Data Analysis"
   ]
  },
  {
   "cell_type": "code",
   "execution_count": 5,
   "id": "5a6beeaf-2d22-4c3b-bbe6-4fdaa67927b7",
   "metadata": {},
   "outputs": [
    {
     "data": {
      "text/plain": [
       "(100000, 4)"
      ]
     },
     "execution_count": 5,
     "metadata": {},
     "output_type": "execute_result"
    }
   ],
   "source": [
    "df.shape"
   ]
  },
  {
   "cell_type": "code",
   "execution_count": 6,
   "id": "eed547dc-f2ba-414a-9bc5-e600611a617e",
   "metadata": {},
   "outputs": [
    {
     "name": "stdout",
     "output_type": "stream",
     "text": [
      "<class 'pandas.core.frame.DataFrame'>\n",
      "RangeIndex: 100000 entries, 0 to 99999\n",
      "Data columns (total 4 columns):\n",
      " #   Column    Non-Null Count   Dtype\n",
      "---  ------    --------------   -----\n",
      " 0   user_id   100000 non-null  int64\n",
      " 1   item_id   100000 non-null  int64\n",
      " 2   rating    100000 non-null  int64\n",
      " 3   timstamp  100000 non-null  int64\n",
      "dtypes: int64(4)\n",
      "memory usage: 3.1 MB\n"
     ]
    }
   ],
   "source": [
    "df.info()"
   ]
  },
  {
   "cell_type": "code",
   "execution_count": 7,
   "id": "82cea67a-da14-4e00-b4db-196ff8ea7596",
   "metadata": {},
   "outputs": [
    {
     "name": "stdout",
     "output_type": "stream",
     "text": [
      "Checking for Null Values\n"
     ]
    },
    {
     "data": {
      "text/plain": [
       "user_id     0\n",
       "item_id     0\n",
       "rating      0\n",
       "timstamp    0\n",
       "dtype: int64"
      ]
     },
     "execution_count": 7,
     "metadata": {},
     "output_type": "execute_result"
    }
   ],
   "source": [
    "print(\"Checking for Null Values\")\n",
    "\n",
    "df.isnull().sum()"
   ]
  },
  {
   "cell_type": "code",
   "execution_count": 8,
   "id": "9de16ee4-4623-4105-8933-b6d28b7e35cc",
   "metadata": {},
   "outputs": [
    {
     "name": "stdout",
     "output_type": "stream",
     "text": [
      "Number of duplicates = 0\n"
     ]
    }
   ],
   "source": [
    "n_duplicates = df.duplicated().sum()\n",
    "print(f\"Number of duplicates = {n_duplicates}\")"
   ]
  },
  {
   "cell_type": "code",
   "execution_count": 118,
   "id": "a645a9c4-3d73-4d6c-b0d0-ae71bb2140bf",
   "metadata": {},
   "outputs": [
    {
     "data": {
      "image/png": "[encoded data removed]",
      "text/plain": [
       "<Figure size 1200x600 with 1 Axes>"
      ]
     },
     "metadata": {},
     "output_type": "display_data"
    }
   ],
   "source": [
    "plt.figure(figsize=(12, 6))\n",
    "sns.countplot(data=df, x=\"rating\")\n",
    "plt.show()"
   ]
  },
  {
   "cell_type": "code",
   "execution_count": 120,
   "id": "5922b108-6885-470c-9b72-06f33c2a7e07",
   "metadata": {},
   "outputs": [
    {
     "data": {
      "text/plain": [
       "count    100000.000000\n",
       "mean          3.529860\n",
       "std           1.125674\n",
       "min           1.000000\n",
       "25%           3.000000\n",
       "50%           4.000000\n",
       "75%           4.000000\n",
       "max           5.000000\n",
       "Name: rating, dtype: float64"
      ]
     },
     "execution_count": 120,
     "metadata": {},
     "output_type": "execute_result"
    }
   ],
   "source": [
    "df[\"rating\"].describe()"
   ]
  },
  {
   "cell_type": "markdown",
   "id": "f5ddb62d-2213-4feb-ad89-0029b21ae3c0",
   "metadata": {},
   "source": [
    "#### Data Preprocessing"
   ]
  },
  {
   "cell_type": "code",
   "execution_count": 9,
   "id": "0f0e5730-098a-462d-85f4-aae5f474e01e",
   "metadata": {},
   "outputs": [],
   "source": [
    "n_users = df.user_id.nunique()\n",
    "n_movies = df.item_id.nunique()"
   ]
  },
  {
   "cell_type": "code",
   "execution_count": 123,
   "id": "0f156e66-87ab-4e8e-8775-8963290ed506",
   "metadata": {},
   "outputs": [],
   "source": [
    "train_split = 0.8\n",
    "\n",
    "n = df.shape[0]\n",
    "\n",
    "train_test_split_idx = math.ceil(train_split * n)\n",
    "\n",
    "train_df = df.iloc[:train_test_split_idx, :]\n",
    "test_df = df.iloc[train_test_split_idx:, :]"
   ]
  },
  {
   "cell_type": "code",
   "execution_count": 124,
   "id": "3a274caa-588b-4204-949a-5f412c49c1e5",
   "metadata": {},
   "outputs": [
    {
     "data": {
      "text/plain": [
       "(80000, 4)"
      ]
     },
     "execution_count": 124,
     "metadata": {},
     "output_type": "execute_result"
    }
   ],
   "source": [
    "train_df.shape"
   ]
  },
  {
   "cell_type": "code",
   "execution_count": 125,
   "id": "12ca3f64-f32c-49c3-8d37-fb607bfb75be",
   "metadata": {},
   "outputs": [
    {
     "data": {
      "text/plain": [
       "(20000, 4)"
      ]
     },
     "execution_count": 125,
     "metadata": {},
     "output_type": "execute_result"
    }
   ],
   "source": [
    "test_df.shape"
   ]
  },
  {
   "cell_type": "markdown",
   "id": "8a35b8ba-7c8e-492a-9e04-9324a729f40e",
   "metadata": {},
   "source": [
    "#### Collaborative Filtering"
   ]
  },
  {
   "cell_type": "code",
   "execution_count": 13,
   "id": "2366951b-3c45-4a9a-8d20-1beedc97785c",
   "metadata": {},
   "outputs": [
    {
     "name": "stderr",
     "output_type": "stream",
     "text": [
      "Iterating over training data: 80000it [00:02, 28265.52it/s]\n"
     ]
    },
    {
     "data": {
      "text/html": [
       "<div>\n",
       "<style scoped>\n",
       "    .dataframe tbody tr th:only-of-type {\n",
       "        vertical-align: middle;\n",
       "    }\n",
       "\n",
       "    .dataframe tbody tr th {\n",
       "        vertical-align: top;\n",
       "    }\n",
       "\n",
       "    .dataframe thead th {\n",
       "        text-align: right;\n",
       "    }\n",
       "</style>\n",
       "<table border=\"1\" class=\"dataframe\">\n",
       "  <thead>\n",
       "    <tr style=\"text-align: right;\">\n",
       "      <th></th>\n",
       "      <th>0</th>\n",
       "      <th>1</th>\n",
       "      <th>2</th>\n",
       "      <th>3</th>\n",
       "      <th>4</th>\n",
       "      <th>5</th>\n",
       "      <th>6</th>\n",
       "      <th>7</th>\n",
       "      <th>8</th>\n",
       "      <th>9</th>\n",
       "      <th>...</th>\n",
       "      <th>1672</th>\n",
       "      <th>1673</th>\n",
       "      <th>1674</th>\n",
       "      <th>1675</th>\n",
       "      <th>1676</th>\n",
       "      <th>1677</th>\n",
       "      <th>1678</th>\n",
       "      <th>1679</th>\n",
       "      <th>1680</th>\n",
       "      <th>1681</th>\n",
       "    </tr>\n",
       "  </thead>\n",
       "  <tbody>\n",
       "    <tr>\n",
       "      <th>0</th>\n",
       "      <td>5.0</td>\n",
       "      <td>3.0</td>\n",
       "      <td>NaN</td>\n",
       "      <td>3.0</td>\n",
       "      <td>3.0</td>\n",
       "      <td>5.0</td>\n",
       "      <td>4.0</td>\n",
       "      <td>1.0</td>\n",
       "      <td>5.0</td>\n",
       "      <td>3.0</td>\n",
       "      <td>...</td>\n",
       "      <td>NaN</td>\n",
       "      <td>NaN</td>\n",
       "      <td>NaN</td>\n",
       "      <td>NaN</td>\n",
       "      <td>NaN</td>\n",
       "      <td>NaN</td>\n",
       "      <td>NaN</td>\n",
       "      <td>NaN</td>\n",
       "      <td>NaN</td>\n",
       "      <td>NaN</td>\n",
       "    </tr>\n",
       "    <tr>\n",
       "      <th>1</th>\n",
       "      <td>4.0</td>\n",
       "      <td>NaN</td>\n",
       "      <td>NaN</td>\n",
       "      <td>NaN</td>\n",
       "      <td>NaN</td>\n",
       "      <td>NaN</td>\n",
       "      <td>NaN</td>\n",
       "      <td>NaN</td>\n",
       "      <td>NaN</td>\n",
       "      <td>2.0</td>\n",
       "      <td>...</td>\n",
       "      <td>NaN</td>\n",
       "      <td>NaN</td>\n",
       "      <td>NaN</td>\n",
       "      <td>NaN</td>\n",
       "      <td>NaN</td>\n",
       "      <td>NaN</td>\n",
       "      <td>NaN</td>\n",
       "      <td>NaN</td>\n",
       "      <td>NaN</td>\n",
       "      <td>NaN</td>\n",
       "    </tr>\n",
       "    <tr>\n",
       "      <th>2</th>\n",
       "      <td>NaN</td>\n",
       "      <td>NaN</td>\n",
       "      <td>NaN</td>\n",
       "      <td>NaN</td>\n",
       "      <td>NaN</td>\n",
       "      <td>NaN</td>\n",
       "      <td>NaN</td>\n",
       "      <td>NaN</td>\n",
       "      <td>NaN</td>\n",
       "      <td>NaN</td>\n",
       "      <td>...</td>\n",
       "      <td>NaN</td>\n",
       "      <td>NaN</td>\n",
       "      <td>NaN</td>\n",
       "      <td>NaN</td>\n",
       "      <td>NaN</td>\n",
       "      <td>NaN</td>\n",
       "      <td>NaN</td>\n",
       "      <td>NaN</td>\n",
       "      <td>NaN</td>\n",
       "      <td>NaN</td>\n",
       "    </tr>\n",
       "    <tr>\n",
       "      <th>3</th>\n",
       "      <td>NaN</td>\n",
       "      <td>NaN</td>\n",
       "      <td>NaN</td>\n",
       "      <td>NaN</td>\n",
       "      <td>NaN</td>\n",
       "      <td>NaN</td>\n",
       "      <td>NaN</td>\n",
       "      <td>NaN</td>\n",
       "      <td>NaN</td>\n",
       "      <td>NaN</td>\n",
       "      <td>...</td>\n",
       "      <td>NaN</td>\n",
       "      <td>NaN</td>\n",
       "      <td>NaN</td>\n",
       "      <td>NaN</td>\n",
       "      <td>NaN</td>\n",
       "      <td>NaN</td>\n",
       "      <td>NaN</td>\n",
       "      <td>NaN</td>\n",
       "      <td>NaN</td>\n",
       "      <td>NaN</td>\n",
       "    </tr>\n",
       "    <tr>\n",
       "      <th>4</th>\n",
       "      <td>4.0</td>\n",
       "      <td>3.0</td>\n",
       "      <td>NaN</td>\n",
       "      <td>NaN</td>\n",
       "      <td>NaN</td>\n",
       "      <td>NaN</td>\n",
       "      <td>NaN</td>\n",
       "      <td>NaN</td>\n",
       "      <td>NaN</td>\n",
       "      <td>NaN</td>\n",
       "      <td>...</td>\n",
       "      <td>NaN</td>\n",
       "      <td>NaN</td>\n",
       "      <td>NaN</td>\n",
       "      <td>NaN</td>\n",
       "      <td>NaN</td>\n",
       "      <td>NaN</td>\n",
       "      <td>NaN</td>\n",
       "      <td>NaN</td>\n",
       "      <td>NaN</td>\n",
       "      <td>NaN</td>\n",
       "    </tr>\n",
       "    <tr>\n",
       "      <th>...</th>\n",
       "      <td>...</td>\n",
       "      <td>...</td>\n",
       "      <td>...</td>\n",
       "      <td>...</td>\n",
       "      <td>...</td>\n",
       "      <td>...</td>\n",
       "      <td>...</td>\n",
       "      <td>...</td>\n",
       "      <td>...</td>\n",
       "      <td>...</td>\n",
       "      <td>...</td>\n",
       "      <td>...</td>\n",
       "      <td>...</td>\n",
       "      <td>...</td>\n",
       "      <td>...</td>\n",
       "      <td>...</td>\n",
       "      <td>...</td>\n",
       "      <td>...</td>\n",
       "      <td>...</td>\n",
       "      <td>...</td>\n",
       "      <td>...</td>\n",
       "    </tr>\n",
       "    <tr>\n",
       "      <th>938</th>\n",
       "      <td>NaN</td>\n",
       "      <td>NaN</td>\n",
       "      <td>NaN</td>\n",
       "      <td>NaN</td>\n",
       "      <td>NaN</td>\n",
       "      <td>NaN</td>\n",
       "      <td>NaN</td>\n",
       "      <td>NaN</td>\n",
       "      <td>NaN</td>\n",
       "      <td>NaN</td>\n",
       "      <td>...</td>\n",
       "      <td>NaN</td>\n",
       "      <td>NaN</td>\n",
       "      <td>NaN</td>\n",
       "      <td>NaN</td>\n",
       "      <td>NaN</td>\n",
       "      <td>NaN</td>\n",
       "      <td>NaN</td>\n",
       "      <td>NaN</td>\n",
       "      <td>NaN</td>\n",
       "      <td>NaN</td>\n",
       "    </tr>\n",
       "    <tr>\n",
       "      <th>939</th>\n",
       "      <td>NaN</td>\n",
       "      <td>NaN</td>\n",
       "      <td>NaN</td>\n",
       "      <td>2.0</td>\n",
       "      <td>NaN</td>\n",
       "      <td>NaN</td>\n",
       "      <td>NaN</td>\n",
       "      <td>5.0</td>\n",
       "      <td>3.0</td>\n",
       "      <td>NaN</td>\n",
       "      <td>...</td>\n",
       "      <td>NaN</td>\n",
       "      <td>NaN</td>\n",
       "      <td>NaN</td>\n",
       "      <td>NaN</td>\n",
       "      <td>NaN</td>\n",
       "      <td>NaN</td>\n",
       "      <td>NaN</td>\n",
       "      <td>NaN</td>\n",
       "      <td>NaN</td>\n",
       "      <td>NaN</td>\n",
       "    </tr>\n",
       "    <tr>\n",
       "      <th>940</th>\n",
       "      <td>NaN</td>\n",
       "      <td>NaN</td>\n",
       "      <td>NaN</td>\n",
       "      <td>NaN</td>\n",
       "      <td>NaN</td>\n",
       "      <td>NaN</td>\n",
       "      <td>4.0</td>\n",
       "      <td>NaN</td>\n",
       "      <td>NaN</td>\n",
       "      <td>NaN</td>\n",
       "      <td>...</td>\n",
       "      <td>NaN</td>\n",
       "      <td>NaN</td>\n",
       "      <td>NaN</td>\n",
       "      <td>NaN</td>\n",
       "      <td>NaN</td>\n",
       "      <td>NaN</td>\n",
       "      <td>NaN</td>\n",
       "      <td>NaN</td>\n",
       "      <td>NaN</td>\n",
       "      <td>NaN</td>\n",
       "    </tr>\n",
       "    <tr>\n",
       "      <th>941</th>\n",
       "      <td>NaN</td>\n",
       "      <td>NaN</td>\n",
       "      <td>NaN</td>\n",
       "      <td>NaN</td>\n",
       "      <td>NaN</td>\n",
       "      <td>NaN</td>\n",
       "      <td>NaN</td>\n",
       "      <td>NaN</td>\n",
       "      <td>NaN</td>\n",
       "      <td>NaN</td>\n",
       "      <td>...</td>\n",
       "      <td>NaN</td>\n",
       "      <td>NaN</td>\n",
       "      <td>NaN</td>\n",
       "      <td>NaN</td>\n",
       "      <td>NaN</td>\n",
       "      <td>NaN</td>\n",
       "      <td>NaN</td>\n",
       "      <td>NaN</td>\n",
       "      <td>NaN</td>\n",
       "      <td>NaN</td>\n",
       "    </tr>\n",
       "    <tr>\n",
       "      <th>942</th>\n",
       "      <td>NaN</td>\n",
       "      <td>NaN</td>\n",
       "      <td>NaN</td>\n",
       "      <td>NaN</td>\n",
       "      <td>NaN</td>\n",
       "      <td>NaN</td>\n",
       "      <td>NaN</td>\n",
       "      <td>NaN</td>\n",
       "      <td>NaN</td>\n",
       "      <td>NaN</td>\n",
       "      <td>...</td>\n",
       "      <td>NaN</td>\n",
       "      <td>NaN</td>\n",
       "      <td>NaN</td>\n",
       "      <td>NaN</td>\n",
       "      <td>NaN</td>\n",
       "      <td>NaN</td>\n",
       "      <td>NaN</td>\n",
       "      <td>NaN</td>\n",
       "      <td>NaN</td>\n",
       "      <td>NaN</td>\n",
       "    </tr>\n",
       "  </tbody>\n",
       "</table>\n",
       "<p>943 rows × 1682 columns</p>\n",
       "</div>"
      ],
      "text/plain": [
       "     0     1     2     3     4     5     6     7     8     9     ...  1672  \\\n",
       "0     5.0   3.0   NaN   3.0   3.0   5.0   4.0   1.0   5.0   3.0  ...   NaN   \n",
       "1     4.0   NaN   NaN   NaN   NaN   NaN   NaN   NaN   NaN   2.0  ...   NaN   \n",
       "2     NaN   NaN   NaN   NaN   NaN   NaN   NaN   NaN   NaN   NaN  ...   NaN   \n",
       "3     NaN   NaN   NaN   NaN   NaN   NaN   NaN   NaN   NaN   NaN  ...   NaN   \n",
       "4     4.0   3.0   NaN   NaN   NaN   NaN   NaN   NaN   NaN   NaN  ...   NaN   \n",
       "..    ...   ...   ...   ...   ...   ...   ...   ...   ...   ...  ...   ...   \n",
       "938   NaN   NaN   NaN   NaN   NaN   NaN   NaN   NaN   NaN   NaN  ...   NaN   \n",
       "939   NaN   NaN   NaN   2.0   NaN   NaN   NaN   5.0   3.0   NaN  ...   NaN   \n",
       "940   NaN   NaN   NaN   NaN   NaN   NaN   4.0   NaN   NaN   NaN  ...   NaN   \n",
       "941   NaN   NaN   NaN   NaN   NaN   NaN   NaN   NaN   NaN   NaN  ...   NaN   \n",
       "942   NaN   NaN   NaN   NaN   NaN   NaN   NaN   NaN   NaN   NaN  ...   NaN   \n",
       "\n",
       "     1673  1674  1675  1676  1677  1678  1679  1680  1681  \n",
       "0     NaN   NaN   NaN   NaN   NaN   NaN   NaN   NaN   NaN  \n",
       "1     NaN   NaN   NaN   NaN   NaN   NaN   NaN   NaN   NaN  \n",
       "2     NaN   NaN   NaN   NaN   NaN   NaN   NaN   NaN   NaN  \n",
       "3     NaN   NaN   NaN   NaN   NaN   NaN   NaN   NaN   NaN  \n",
       "4     NaN   NaN   NaN   NaN   NaN   NaN   NaN   NaN   NaN  \n",
       "..    ...   ...   ...   ...   ...   ...   ...   ...   ...  \n",
       "938   NaN   NaN   NaN   NaN   NaN   NaN   NaN   NaN   NaN  \n",
       "939   NaN   NaN   NaN   NaN   NaN   NaN   NaN   NaN   NaN  \n",
       "940   NaN   NaN   NaN   NaN   NaN   NaN   NaN   NaN   NaN  \n",
       "941   NaN   NaN   NaN   NaN   NaN   NaN   NaN   NaN   NaN  \n",
       "942   NaN   NaN   NaN   NaN   NaN   NaN   NaN   NaN   NaN  \n",
       "\n",
       "[943 rows x 1682 columns]"
      ]
     },
     "execution_count": 13,
     "metadata": {},
     "output_type": "execute_result"
    }
   ],
   "source": [
    "user_items_utility_table = np.empty(shape=(n_users, n_movies))\n",
    "user_items_utility_table[:] = np.nan\n",
    "\n",
    "for _, r in tqdm(train_df.iterrows(), desc=\"Iterating over training data\"):\n",
    "    user_id = r[\"user_id\"] - 1\n",
    "    item_id = r[\"item_id\"] - 1\n",
    "    item_rating = r[\"rating\"]\n",
    "\n",
    "    user_items_utility_table[user_id, item_id] = item_rating\n",
    "\n",
    "user_items_utility_table = pd.DataFrame(user_items_utility_table)\n",
    "user_items_utility_table"
   ]
  },
  {
   "cell_type": "code",
   "execution_count": 14,
   "id": "dd53a603-7366-4434-ad45-71d0113a0489",
   "metadata": {},
   "outputs": [],
   "source": [
    "def calculate_user_stats(arr: np.array):\n",
    "    non_nan_arr = arr[~np.isnan(arr)]\n",
    "    \n",
    "    sum = np.sum(non_nan_arr)\n",
    "    n = non_nan_arr.shape[0]\n",
    "\n",
    "    mean = sum / n\n",
    "    sigma = np.sqrt((np.square(non_nan_arr).sum() / n) - np.square(mean))\n",
    "    \n",
    "    return mean, sigma"
   ]
  },
  {
   "cell_type": "code",
   "execution_count": 15,
   "id": "5806202a-2c2d-4b5a-86b2-aa2711eec486",
   "metadata": {},
   "outputs": [],
   "source": [
    "def normalize_items(arr: np.array, mean: float, std: float):\n",
    "    normalized_user_items = (arr - mean) / std\n",
    "\n",
    "    return normalized_user_items"
   ]
  },
  {
   "cell_type": "code",
   "execution_count": 16,
   "id": "38b7a97e-dace-447d-8c37-ac90138f00cc",
   "metadata": {},
   "outputs": [],
   "source": [
    "user_user_similarity = np.zeros(shape=(n_users, n_users))\n",
    "\n",
    "user_stats = np.empty(shape=(n_users, 2))\n",
    "\n",
    "normalized_user_items_utility_table = np.copy(user_items_utility_table)\n",
    "\n",
    "for i in range(n_users):\n",
    "    user_items = user_items_utility_table.iloc[i, :].values\n",
    "    \n",
    "    user_mean, user_sigma = calculate_user_stats(user_items)\n",
    "    user_stats[i, 0] = user_mean\n",
    "    user_stats[i, 1] = user_sigma\n",
    "\n",
    "    user_normalized_items = normalize_items(user_items, user_mean, user_sigma)\n",
    "    normalized_user_items_utility_table[i, :] = user_normalized_items"
   ]
  },
  {
   "cell_type": "code",
   "execution_count": 17,
   "id": "0d0a849d-d0a5-4092-b92c-d2b31fcd2896",
   "metadata": {},
   "outputs": [
    {
     "data": {
      "text/plain": [
       "array([[ 1.12166775, -0.47798342,         nan, ...,         nan,\n",
       "                nan,         nan],\n",
       "       [ 0.32001773,         nan,         nan, ...,         nan,\n",
       "                nan,         nan],\n",
       "       [        nan,         nan,         nan, ...,         nan,\n",
       "                nan,         nan],\n",
       "       ...,\n",
       "       [        nan,         nan,         nan, ...,         nan,\n",
       "                nan,         nan],\n",
       "       [        nan,         nan,         nan, ...,         nan,\n",
       "                nan,         nan],\n",
       "       [        nan,         nan,         nan, ...,         nan,\n",
       "                nan,         nan]])"
      ]
     },
     "execution_count": 17,
     "metadata": {},
     "output_type": "execute_result"
    }
   ],
   "source": [
    "normalized_user_items_utility_table"
   ]
  },
  {
   "cell_type": "code",
   "execution_count": 56,
   "id": "d9ea217e-be4e-44bf-aef9-edba79205278",
   "metadata": {},
   "outputs": [
    {
     "name": "stderr",
     "output_type": "stream",
     "text": [
      "100%|███████████████████████████████████████████████████████████████████████████████████████████████████████████████████████| 943/943 [00:26<00:00, 35.48it/s]\n"
     ]
    }
   ],
   "source": [
    "for u in tqdm(range(n_users)):\n",
    "    user_u_items = normalized_user_items_utility_table[u, :]\n",
    "    user_u_rated_items = set(np.argwhere(~np.isnan(user_u_items)).squeeze())\n",
    "    \n",
    "    for v in range(n_users):\n",
    "        user_v_items = normalized_user_items_utility_table[v, :]\n",
    "        user_v_rated_items = set(np.argwhere(~np.isnan(user_v_items)).squeeze())\n",
    "\n",
    "        common_items = list(user_u_rated_items.intersection(user_v_rated_items))\n",
    "        n_common_items = len(common_items)\n",
    "\n",
    "        if n_common_items > 0:\n",
    "            user_uv_similarity = np.dot(user_u_items[common_items], user_v_items[common_items]) / n_common_items\n",
    "        else:\n",
    "            user_uv_similarity = 0\n",
    "        \n",
    "        user_user_similarity[u, v] = user_uv_similarity"
   ]
  },
  {
   "cell_type": "code",
   "execution_count": 57,
   "id": "654fc375-e996-4747-94ba-7a318b1f7b7f",
   "metadata": {},
   "outputs": [
    {
     "data": {
      "text/plain": [
       "array([[ 1.        ,  0.40836335,  0.16113311, ...,  0.20038042,\n",
       "        -0.33890383,  0.1118678 ],\n",
       "       [ 0.40836335,  1.        ,  0.18889757, ...,  0.56887347,\n",
       "        -0.24424844,  0.41261968],\n",
       "       [ 0.16113311,  0.18889757,  1.        , ...,  0.92269614,\n",
       "         0.97063508,  0.39109314],\n",
       "       ...,\n",
       "       [ 0.20038042,  0.56887347,  0.92269614, ...,  1.        ,\n",
       "        -0.26806023,  0.0529415 ],\n",
       "       [-0.33890383, -0.24424844,  0.97063508, ..., -0.26806023,\n",
       "         1.        , -0.24581726],\n",
       "       [ 0.1118678 ,  0.41261968,  0.39109314, ...,  0.0529415 ,\n",
       "        -0.24581726,  1.        ]])"
      ]
     },
     "execution_count": 57,
     "metadata": {},
     "output_type": "execute_result"
    }
   ],
   "source": [
    "user_user_similarity"
   ]
  },
  {
   "cell_type": "code",
   "execution_count": 121,
   "id": "da86ad7c-a8e0-473a-b886-b53a361aa964",
   "metadata": {},
   "outputs": [
    {
     "data": {
      "text/html": [
       "<div>\n",
       "<style scoped>\n",
       "    .dataframe tbody tr th:only-of-type {\n",
       "        vertical-align: middle;\n",
       "    }\n",
       "\n",
       "    .dataframe tbody tr th {\n",
       "        vertical-align: top;\n",
       "    }\n",
       "\n",
       "    .dataframe thead th {\n",
       "        text-align: right;\n",
       "    }\n",
       "</style>\n",
       "<table border=\"1\" class=\"dataframe\">\n",
       "  <thead>\n",
       "    <tr style=\"text-align: right;\">\n",
       "      <th></th>\n",
       "      <th>user_id</th>\n",
       "      <th>item_id</th>\n",
       "      <th>rating</th>\n",
       "      <th>timstamp</th>\n",
       "      <th>predicted_rating</th>\n",
       "    </tr>\n",
       "  </thead>\n",
       "  <tbody>\n",
       "    <tr>\n",
       "      <th>80000</th>\n",
       "      <td>863</td>\n",
       "      <td>1431</td>\n",
       "      <td>4</td>\n",
       "      <td>889289618</td>\n",
       "      <td>3.124765</td>\n",
       "    </tr>\n",
       "    <tr>\n",
       "      <th>80001</th>\n",
       "      <td>761</td>\n",
       "      <td>1287</td>\n",
       "      <td>1</td>\n",
       "      <td>876190072</td>\n",
       "      <td>1.544807</td>\n",
       "    </tr>\n",
       "    <tr>\n",
       "      <th>80002</th>\n",
       "      <td>863</td>\n",
       "      <td>322</td>\n",
       "      <td>1</td>\n",
       "      <td>889289327</td>\n",
       "      <td>2.538034</td>\n",
       "    </tr>\n",
       "    <tr>\n",
       "      <th>80003</th>\n",
       "      <td>828</td>\n",
       "      <td>694</td>\n",
       "      <td>2</td>\n",
       "      <td>891036717</td>\n",
       "      <td>3.349721</td>\n",
       "    </tr>\n",
       "    <tr>\n",
       "      <th>80004</th>\n",
       "      <td>889</td>\n",
       "      <td>523</td>\n",
       "      <td>4</td>\n",
       "      <td>880178078</td>\n",
       "      <td>4.052633</td>\n",
       "    </tr>\n",
       "  </tbody>\n",
       "</table>\n",
       "</div>"
      ],
      "text/plain": [
       "       user_id  item_id  rating   timstamp  predicted_rating\n",
       "80000      863     1431       4  889289618          3.124765\n",
       "80001      761     1287       1  876190072          1.544807\n",
       "80002      863      322       1  889289327          2.538034\n",
       "80003      828      694       2  891036717          3.349721\n",
       "80004      889      523       4  880178078          4.052633"
      ]
     },
     "execution_count": 121,
     "metadata": {},
     "output_type": "execute_result"
    }
   ],
   "source": [
    "test_df.head()"
   ]
  },
  {
   "cell_type": "code",
   "execution_count": 126,
   "id": "95b731b9-f2ac-4194-98d9-5e2160e1e70a",
   "metadata": {},
   "outputs": [
    {
     "name": "stderr",
     "output_type": "stream",
     "text": [
      "Predicting: 20000it [00:03, 5034.28it/s]"
     ]
    },
    {
     "name": "stdout",
     "output_type": "stream",
     "text": [
      "RMSE: 0.954\n",
      "193\n"
     ]
    },
    {
     "name": "stderr",
     "output_type": "stream",
     "text": [
      "\n"
     ]
    }
   ],
   "source": [
    "predictions = []\n",
    "\n",
    "rmse = 0\n",
    "cnt = 0\n",
    "\n",
    "k = 300\n",
    "\n",
    "mean_movie_rating = test_df[\"rating\"].mean()\n",
    "\n",
    "for _, r in tqdm(test_df.iterrows(), desc=\"Predicting\"):\n",
    "    user_u_id = r[\"user_id\"]\n",
    "    item_id = r[\"item_id\"]\n",
    "\n",
    "    users_similarities = user_user_similarity[user_u_id - 1, :]\n",
    "    topk_users = np.argsort(users_similarities)[-k:]\n",
    "    users_similarities = users_similarities[topk_users]\n",
    "    \n",
    "    other_users_movie_ratings = normalized_user_items_utility_table[topk_users, item_id - 1]\n",
    "\n",
    "    non_nan_idx = ~np.isnan(other_users_movie_ratings)\n",
    "\n",
    "    if non_nan_idx.sum() > 0:\n",
    "        users_similarities = users_similarities[non_nan_idx]\n",
    "        \n",
    "        other_users_movie_ratings = other_users_movie_ratings[non_nan_idx]\n",
    "    \n",
    "        normalized_rating = np.dot(users_similarities, other_users_movie_ratings) / np.sum(users_similarities)\n",
    "    \n",
    "        user_mean, user_sigma = user_stats[user_u_id - 1]\n",
    "        raw_rating = (normalized_rating * user_sigma) + user_mean\n",
    "\n",
    "        predictions.append(raw_rating)\n",
    "    \n",
    "        rmse += np.square(r[\"rating\"] - raw_rating)\n",
    "    else:\n",
    "        cnt += 1\n",
    "        rmse += np.square(r[\"rating\"] - mean_movie_rating)\n",
    "        predictions.append(mean_movie_rating)\n",
    "\n",
    "predictions = np.array(predictions)\n",
    "\n",
    "rmse = np.sqrt(rmse / len(predictions))\n",
    "print(f\"RMSE: {rmse:.3f}\")\n",
    "\n",
    "print(cnt)"
   ]
  },
  {
   "cell_type": "code",
   "execution_count": 95,
   "id": "30a212c6-f967-473b-9a46-cad942168a22",
   "metadata": {},
   "outputs": [
    {
     "name": "stderr",
     "output_type": "stream",
     "text": [
      "/tmp/ipykernel_6071/4159144358.py:1: SettingWithCopyWarning: \n",
      "A value is trying to be set on a copy of a slice from a DataFrame.\n",
      "Try using .loc[row_indexer,col_indexer] = value instead\n",
      "\n",
      "See the caveats in the documentation: https://pandas.pydata.org/pandas-docs/stable/user_guide/indexing.html#returning-a-view-versus-a-copy\n",
      "  test_df.loc[:, \"predicted_rating\"] = predictions\n"
     ]
    }
   ],
   "source": [
    "test_df.loc[:, \"predicted_rating\"] = predictions"
   ]
  },
  {
   "cell_type": "code",
   "execution_count": 96,
   "id": "48d7aa9e-f72e-489e-9bdf-4a1eb03e56af",
   "metadata": {},
   "outputs": [
    {
     "name": "stdout",
     "output_type": "stream",
     "text": [
      "RMSE: 0.9544\n"
     ]
    }
   ],
   "source": [
    "from sklearn.metrics import root_mean_squared_error\n",
    "\n",
    "rmse = root_mean_squared_error(\n",
    "    test_df[\"rating\"],\n",
    "    test_df[\"predicted_rating\"]\n",
    ")\n",
    "\n",
    "print(f\"RMSE: {rmse:.3f}\")"
   ]
  },
  {
   "cell_type": "code",
   "execution_count": 129,
   "id": "ed070f9f-dd09-4df0-897d-aef357fc2db0",
   "metadata": {},
   "outputs": [
    {
     "data": {
      "text/plain": [
       "5.968357702524769"
      ]
     },
     "execution_count": 129,
     "metadata": {},
     "output_type": "execute_result"
    }
   ],
   "source": [
    "predictions.max()"
   ]
  },
  {
   "cell_type": "code",
   "execution_count": 127,
   "id": "7122965b-2179-471d-b61f-4d2b899857db",
   "metadata": {},
   "outputs": [
    {
     "data": {
      "text/plain": [
       "array([-1.,  0.,  1.,  2.,  3.,  4.,  5.,  6.])"
      ]
     },
     "execution_count": 127,
     "metadata": {},
     "output_type": "execute_result"
    }
   ],
   "source": [
    "np.unique(np.round(predictions))"
   ]
  },
  {
   "cell_type": "code",
   "execution_count": 130,
   "id": "561be463-b580-4b5b-a20e-f65ccc807f8e",
   "metadata": {},
   "outputs": [],
   "source": [
    "predictions = np.round(predictions)\n",
    "\n",
    "predictions = np.where(predictions < 1, 1, predictions)"
   ]
  },
  {
   "cell_type": "code",
   "execution_count": 131,
   "id": "99fd35f6-8de1-4dac-9072-e5985d33d863",
   "metadata": {},
   "outputs": [],
   "source": [
    "predictions = np.where(predictions > 5, 5, predictions)"
   ]
  },
  {
   "cell_type": "code",
   "execution_count": 132,
   "id": "3b00394a-9126-4cbf-b443-64332a21249f",
   "metadata": {},
   "outputs": [
    {
     "data": {
      "text/plain": [
       "array([1., 2., 3., 4., 5.])"
      ]
     },
     "execution_count": 132,
     "metadata": {},
     "output_type": "execute_result"
    }
   ],
   "source": [
    "np.unique(np.round(predictions))"
   ]
  },
  {
   "cell_type": "code",
   "execution_count": 133,
   "id": "9c799f87-6a92-484d-ac10-7f74a0ac47cc",
   "metadata": {},
   "outputs": [
    {
     "name": "stdout",
     "output_type": "stream",
     "text": [
      "RMSE: 0.998\n"
     ]
    }
   ],
   "source": [
    "from sklearn.metrics import root_mean_squared_error\n",
    "\n",
    "rmse = root_mean_squared_error(\n",
    "    test_df[\"rating\"],\n",
    "    predictions\n",
    ")\n",
    "\n",
    "print(f\"RMSE: {rmse:.3f}\")"
   ]
  },
  {
   "cell_type": "code",
   "execution_count": null,
   "id": "279975af-056b-4841-af03-f8c86059ef04",
   "metadata": {},
   "outputs": [],
   "source": []
  }
 ],
 "metadata": {
  "kernelspec": {
   "display_name": "Python 3 (ipykernel)",
   "language": "python",
   "name": "python3"
  },
  "language_info": {
   "codemirror_mode": {
    "name": "ipython",
    "version": 3
   },
   "file_extension": ".py",
   "mimetype": "text/x-python",
   "name": "python",
   "nbconvert_exporter": "python",
   "pygments_lexer": "ipython3",
   "version": "3.10.12"
  }
 },
 "nbformat": 4,
 "nbformat_minor": 5
}
